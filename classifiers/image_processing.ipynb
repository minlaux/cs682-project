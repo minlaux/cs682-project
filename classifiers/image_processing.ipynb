{
 "cells": [
  {
   "cell_type": "markdown",
   "metadata": {},
   "source": [
    "Imports"
   ]
  },
  {
   "cell_type": "code",
   "execution_count": null,
   "metadata": {},
   "outputs": [
    {
     "name": "stderr",
     "output_type": "stream",
     "text": [
      "/Users/polinapetrova/opt/anaconda3/lib/python3.9/site-packages/pandas/core/computation/expressions.py:21: UserWarning: Pandas requires version '2.8.4' or newer of 'numexpr' (version '2.8.1' currently installed).\n",
      "  from pandas.core.computation.check import NUMEXPR_INSTALLED\n",
      "/Users/polinapetrova/opt/anaconda3/lib/python3.9/site-packages/pandas/core/arrays/masked.py:60: UserWarning: Pandas requires version '1.3.6' or newer of 'bottleneck' (version '1.3.4' currently installed).\n",
      "  from pandas.core import (\n",
      "/Users/polinapetrova/opt/anaconda3/lib/python3.9/site-packages/scipy/__init__.py:146: UserWarning: A NumPy version >=1.16.5 and <1.23.0 is required for this version of SciPy (detected version 1.26.4\n",
      "  warnings.warn(f\"A NumPy version >={np_minversion} and <{np_maxversion}\"\n"
     ]
    }
   ],
   "source": [
    "# imports\n",
    "import glob\n",
    "import re\n",
    "from pathlib import Path\n",
    "\n",
    "# import cv2\n",
    "import pandas as pd\n",
    "# import numpy as np\n",
    "# import matplotlib.pyplot as plt\n",
    "# from scipy.spatial import distance\n",
    "# from sklearn.model_selection import train_test_split\n",
    "from skimage import measure, filters\n",
    "from skimage.filters import gaussian\n",
    "import tensorflow as tf\n",
    "import random\n",
    "from PIL import Image\n",
    "# import os\n",
    "import torchvision.transforms as transforms\n",
    "from tensorflow.keras.preprocessing.image import ImageDataGenerator"
   ]
  },
  {
   "cell_type": "markdown",
   "metadata": {},
   "source": [
    "Augment data"
   ]
  },
  {
   "cell_type": "code",
   "execution_count": null,
   "metadata": {},
   "outputs": [],
   "source": [
    "# follow the directory structure specified in the repository \n",
    "# downloaded heart16 file from https://data.galaxyzoo.org/#section-7\n",
    "df_hart16 = pd.read_csv('../data/gz2_hart16.csv')\n",
    "# print(\"HART16 Dataset Info:\")\n",
    "# df_hart16.info()\n",
    "\n",
    "# downloaded images and mapping from https://www.kaggle.com/datasets/jaimetrickz/galaxy-zoo-2-images/data\n",
    "df_mappings = pd.read_csv('../data/gz2_filename_mapping.csv')\n",
    "# print(\"\\nMappings Dataset Info:\")\n",
    "# df_mappings.info()\n",
    "\n",
    "# only keep first 4 columns and debiased data\n",
    "columns_to_keep = [\"dr7objid\", \"ra\", \"dec\", \"gz2_class\"] + [col for col in df_hart16.columns if col.endswith('_debiased')]\n",
    "filtered_hart16 = df_hart16[columns_to_keep]\n",
    "\n",
    "# merge dataframes on object id\n",
    "df_merged = pd.merge(df_mappings, filtered_hart16, \n",
    "                     left_on='objid',\n",
    "                     right_on='dr7objid')\n",
    "\n",
    "# check for null rows\n",
    "null_rows = df_merged.isnull().any(axis=1)\n",
    "# get total number of null rows\n",
    "num_null_rows = null_rows.sum()\n",
    "# drop null rows\n",
    "df_merged.dropna(inplace=True)\n",
    "\n",
    "print(df_merged.shape)\n",
    "\n",
    "# get list of all images in the image folder\n",
    "image_files = glob.glob('../data/images_gz2/images/*.jpg')\n",
    "print(\"Image count:\", len(image_files))\n",
    "\n",
    "# regex to match numeric image file names\n",
    "regex = re.compile(r\".*[/\\\\](\\d+)\\.jpg\")\n",
    "\n",
    "# extract image names\n",
    "# image name corresponds to assed_id in data table\n",
    "image_names = []\n",
    "for img in image_files:\n",
    "    match = re.search(regex, img)\n",
    "    if match:\n",
    "        image_names.append(int(match.group(1)))\n",
    "\n",
    "# sort and display\n",
    "image_names.sort()\n",
    "# print(\"First 10 image names:\", image_names[:10])\n",
    "\n",
    "print(df_merged.head())\n",
    "\n",
    "class_counts = df_merged['gz2_class'].value_counts()\n",
    "print(\"Number of classes:\", class_counts.shape[0])"
   ]
  },
  {
   "cell_type": "markdown",
   "metadata": {},
   "source": [
    "Augment images"
   ]
  },
  {
   "cell_type": "code",
   "execution_count": null,
   "metadata": {},
   "outputs": [],
   "source": [
    "# Create an ImageDataGenerator instance\n",
    "datagen = ImageDataGenerator(\n",
    "    rescale=1.0 / 255,             # Normalize pixel values to [0, 1]\n",
    "    horizontal_flip=True,          # Random horizontal flip\n",
    "    rotation_range=90,             # Rotate randomly from 0 to 90 degrees\n",
    "    zoom_range=(1.1, 1.3),         # Random zoom between 1.1x to 1.3x\n",
    "    brightness_range=(0.98, 1.02), # Adjust brightness\n",
    "    shear_range=0.2,               # Apply random shear transformations\n",
    ")\n",
    "\n",
    "# Load and preprocess an image\n",
    "from tensorflow.keras.utils import load_img, img_to_array\n",
    "from tensorflow.keras.preprocessing.image import array_to_img\n",
    "\n",
    "# Path to image\n",
    "image_path = \"../data/images_gz2/images/223272.jpg\"\n",
    "img = load_img(image_path, target_size=(256, 256))  # Resize to 256x256\n",
    "img_array = img_to_array(img)  # Convert to numpy array\n",
    "img_array = img_array.reshape((1,) + img_array.shape)  # Add batch dimension\n",
    "\n",
    "# Apply transformations and visualise\n",
    "augmented_images = datagen.flow(img_array, batch_size=1)\n",
    "for i, batch in enumerate(augmented_images):\n",
    "    augmented_img = array_to_img(batch[0])  # Convert back to PIL Image\n",
    "    augmented_img.show()  # Show the processed image\n",
    "    if i == 4:  # Display 5 images\n",
    "        break\n"
   ]
  }
 ],
 "metadata": {
  "kernelspec": {
   "display_name": "base",
   "language": "python",
   "name": "python3"
  },
  "language_info": {
   "codemirror_mode": {
    "name": "ipython",
    "version": 3
   },
   "file_extension": ".py",
   "mimetype": "text/x-python",
   "name": "python",
   "nbconvert_exporter": "python",
   "pygments_lexer": "ipython3",
   "version": "3.9.12"
  }
 },
 "nbformat": 4,
 "nbformat_minor": 2
}
